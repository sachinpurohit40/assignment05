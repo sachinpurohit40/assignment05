{
 "cells": [
  {
   "cell_type": "markdown",
   "id": "b777de2c",
   "metadata": {},
   "source": [
    "# ASSIGNMENT 5"
   ]
  },
  {
   "cell_type": "markdown",
   "id": "5ee38ac6",
   "metadata": {},
   "source": [
    "QUE 1 =  What does an empty dictionary's code look like?\n",
    "\n",
    "ANS 1 =  In Python, an empty dictionary is created using curly braces {} or by calling the dict() \n",
    "constructor without any arguments. Here's what the code for creating an empty dictionary looks like using both methods:\n",
    "\n",
    "Using curly braces:\n"
   ]
  },
  {
   "cell_type": "markdown",
   "id": "cf384f4d",
   "metadata": {},
   "source": [
    "Using the dict() constructor:"
   ]
  },
  {
   "cell_type": "code",
   "execution_count": 10,
   "id": "4c94e244",
   "metadata": {},
   "outputs": [
    {
     "data": {
      "text/plain": [
       "dict"
      ]
     },
     "execution_count": 10,
     "metadata": {},
     "output_type": "execute_result"
    }
   ],
   "source": [
    "empty_dict = {}\n",
    "type(empty_dict)"
   ]
  },
  {
   "cell_type": "code",
   "execution_count": 11,
   "id": "3adb5b9c",
   "metadata": {},
   "outputs": [
    {
     "data": {
      "text/plain": [
       "dict"
      ]
     },
     "execution_count": 11,
     "metadata": {},
     "output_type": "execute_result"
    }
   ],
   "source": [
    "empty_dict = dict()\n",
    "type(empty_dict)\n"
   ]
  },
  {
   "cell_type": "markdown",
   "id": "f4193796",
   "metadata": {},
   "source": [
    "QUE 2 =  What is the value of a dictionary value with the key 'foo' and the value 42?\n",
    "\n",
    "\n",
    "ANS 2 = In Python, if you have a dictionary with the key 'foo' and the value 42, you can access the value associated with the key 'foo' as follows:"
   ]
  },
  {
   "cell_type": "code",
   "execution_count": 12,
   "id": "e8e87e2a",
   "metadata": {},
   "outputs": [
    {
     "name": "stdout",
     "output_type": "stream",
     "text": [
      "42\n"
     ]
    }
   ],
   "source": [
    "my_dict = {'foo': 42}\n",
    "value = my_dict['foo']\n",
    "print(value)\n"
   ]
  },
  {
   "cell_type": "markdown",
   "id": "00c5c657",
   "metadata": {},
   "source": [
    "QUE 3 =  What is the most significant distinction between a dictionary and a list?\n",
    "\n",
    "ANS 3 =  The most significant distinction between a dictionary and a list in programming is how they store and access data:\n",
    "\n",
    "Data Storage:\n",
    "\n",
    "List: A list is an ordered collection of elements where each element is identified by its index, which is a numeric value. Lists are typically used to store sequences of items, and you access elements by their position in the list, starting from index 0.\n",
    "    \n",
    "Dictionary: A dictionary, also known as a map or associative array, is an unordered collection of key-value pairs. Instead of using numeric indices, you access elements in a dictionary by their unique keys. Each key is associated with a value, and you can use the key to look up the corresponding value.\n",
    "Ordering:\n",
    "\n",
    "List: Lists maintain the order of elements based on their position in the list. The first element added to the list will have an index of 0, the second element an index of 1, and so on.\n",
    "    \n",
    "Dictionary: Dictionaries do not have a specific order for their elements. The key-value pairs are stored in a way that allows for efficient key-based lookups but doesn't guarantee any specific order.\n",
    "Accessing Elements:\n",
    "\n",
    "List: You access elements in a list by their index using square brackets. For example, my_list[0] would retrieve the first element in the list.\n",
    "    \n",
    "Dictionary: You access elements in a dictionary by specifying the key associated with the value you want to retrieve. For example, my_dict['key'] would retrieve the value associated with the key 'key'.\n",
    "Data Types:\n",
    "\n",
    "List: Lists can hold elements of the same or different data types. You can have a list that contains integers, strings, floats, or even other lists.\n",
    "    \n",
    "Dictionary: Dictionaries can also hold values of various data types, but the keys are typically strings or other immutable types."
   ]
  },
  {
   "cell_type": "markdown",
   "id": "999ff430",
   "metadata": {},
   "source": [
    "QUE 4 =    What happens if you try to access spam['foo'] if spam is {'bar': 100}?\n",
    "\n",
    "ANS 4 =    If you try to access spam['foo'] when spam is {'bar': 100}, you will get a KeyError in Python. This error occurs because you are trying to access a dictionary key 'foo' that does not exist in the dictionary spam.\n",
    "\n",
    "Here's an example of the error you would encounter:"
   ]
  },
  {
   "cell_type": "code",
   "execution_count": 14,
   "id": "89720251",
   "metadata": {},
   "outputs": [
    {
     "ename": "KeyError",
     "evalue": "'foo'",
     "output_type": "error",
     "traceback": [
      "\u001b[1;31m---------------------------------------------------------------------------\u001b[0m",
      "\u001b[1;31mKeyError\u001b[0m                                  Traceback (most recent call last)",
      "Cell \u001b[1;32mIn[14], line 2\u001b[0m\n\u001b[0;32m      1\u001b[0m spam \u001b[38;5;241m=\u001b[39m {\u001b[38;5;124m'\u001b[39m\u001b[38;5;124mbar\u001b[39m\u001b[38;5;124m'\u001b[39m: \u001b[38;5;241m100\u001b[39m}\n\u001b[1;32m----> 2\u001b[0m value \u001b[38;5;241m=\u001b[39m spam[\u001b[38;5;124m'\u001b[39m\u001b[38;5;124mfoo\u001b[39m\u001b[38;5;124m'\u001b[39m]\n",
      "\u001b[1;31mKeyError\u001b[0m: 'foo'"
     ]
    }
   ],
   "source": [
    "spam = {'bar': 100}\n",
    "value = spam['foo'] \n",
    "# This line will raise a KeyError\n"
   ]
  },
  {
   "cell_type": "code",
   "execution_count": 15,
   "id": "6c0439b2",
   "metadata": {},
   "outputs": [],
   "source": [
    "# Using get() method to provide a default value if the key doesn't exist\n",
    "value = spam.get('foo', 'Default Value')\n",
    "\n",
    "# Checking if the key exists before accessing it\n",
    "if 'foo' in spam:\n",
    "    value = spam['foo']\n",
    "else:\n",
    "    value = 'Default Value'\n"
   ]
  },
  {
   "cell_type": "markdown",
   "id": "6fad769c",
   "metadata": {},
   "source": [
    "QUE5 = If a dictionary is stored in spam, what is the difference between the expressions 'cat' in spam and 'cat' in spam.keys()?\n",
    "\n",
    "ANS5 = In Python, if you have a dictionary stored in the variable spam, the expression 'cat' in spam and 'cat' in spam.keys() are used to check for the presence of the key 'cat' in the dictionary spam,\n",
    "       but they  are slightly different in terms of what they are checking:"
   ]
  },
  {
   "cell_type": "code",
   "execution_count": 24,
   "id": "5bf9f732",
   "metadata": {},
   "outputs": [
    {
     "data": {
      "text/plain": [
       "True"
      ]
     },
     "execution_count": 24,
     "metadata": {},
     "output_type": "execute_result"
    }
   ],
   "source": [
    "spam ={'cat':100}\n",
    "'cat' in spam"
   ]
  },
  {
   "cell_type": "code",
   "execution_count": 25,
   "id": "c858daed",
   "metadata": {},
   "outputs": [
    {
     "data": {
      "text/plain": [
       "True"
      ]
     },
     "execution_count": 25,
     "metadata": {},
     "output_type": "execute_result"
    }
   ],
   "source": [
    "spam = {'cat': 100}\n",
    "\"cat\" in spam.keys() "
   ]
  },
  {
   "cell_type": "markdown",
   "id": "50849c29",
   "metadata": {},
   "source": [
    "QUE 6 =  If a dictionary is stored in spam, what is the difference between the expressions 'cat' in spam and 'cat' in spam.values()?\n",
    "\n",
    "ANS 6 =  In Python, if you have a dictionary stored in the variable spam, the expressions 'cat' in spam and 'cat' in spam.values() are used to check for the presence of a value 'cat' in the dictionary spam. However, \n",
    "       there are important differences between these two expressions:\n"
   ]
  },
  {
   "cell_type": "code",
   "execution_count": 26,
   "id": "e120b8d2",
   "metadata": {},
   "outputs": [
    {
     "data": {
      "text/plain": [
       "True"
      ]
     },
     "execution_count": 26,
     "metadata": {},
     "output_type": "execute_result"
    }
   ],
   "source": [
    "spam ={'cat':100}\n",
    "'cat' in spam"
   ]
  },
  {
   "cell_type": "code",
   "execution_count": 28,
   "id": "802e6d3a",
   "metadata": {},
   "outputs": [
    {
     "data": {
      "text/plain": [
       "False"
      ]
     },
     "execution_count": 28,
     "metadata": {},
     "output_type": "execute_result"
    }
   ],
   "source": [
    "spam ={'cat':100}\n",
    "'cat' in spam.values()"
   ]
  },
  {
   "cell_type": "markdown",
   "id": "a9ef4697",
   "metadata": {},
   "source": [
    "QUE 7 =   What is a shortcut for the following code?\n",
    "\n",
    "if 'color' not in spam:\n",
    "    \n",
    "spam['color'] = 'black'\n",
    "\n",
    "ANS 7 =\n"
   ]
  },
  {
   "cell_type": "code",
   "execution_count": 31,
   "id": "6b58e8e6",
   "metadata": {},
   "outputs": [
    {
     "name": "stdout",
     "output_type": "stream",
     "text": [
      "{'cat': 100, 'color': 'black'}\n"
     ]
    }
   ],
   "source": [
    "spam ={'cat':100}\n",
    "spam.setdefault('color','black')\n",
    "print(spam)\n"
   ]
  },
  {
   "cell_type": "markdown",
   "id": "e0bcb639",
   "metadata": {},
   "source": [
    "QUE 8 = How do you \"pretty print\" dictionary values using which module and function?\n",
    "\n",
    "ANS 8 ="
   ]
  },
  {
   "cell_type": "code",
   "execution_count": 47,
   "id": "392c7b09",
   "metadata": {},
   "outputs": [],
   "source": [
    "import pprint\n",
    "dct = [ {'NAME': 'SACHIN', 'AGE': '26', 'CITY': 'JABALPUR','SALARY':50000 },\n",
    "  {'NAME': 'NEERAJ', 'AGE': '30', 'CITY': 'BHOPAL','SALARY':40000},\n",
    "  {'NAME': 'PRATHMESH', 'AGE': '21', 'CITY': 'INDORE','SALARY':30000},\n",
    "  {'NAME': 'NAYAN', 'AGE': '24', 'CITY': 'PIPARIYA','SALARY':45000}\n",
    "]"
   ]
  },
  {
   "cell_type": "code",
   "execution_count": 48,
   "id": "343f77ca",
   "metadata": {},
   "outputs": [
    {
     "name": "stdout",
     "output_type": "stream",
     "text": [
      "[{'AGE': '26', 'CITY': 'JABALPUR', 'NAME': 'SACHIN', 'SALARY': 50000},\n",
      " {'AGE': '30', 'CITY': 'BHOPAL', 'NAME': 'NEERAJ', 'SALARY': 40000},\n",
      " {'AGE': '21', 'CITY': 'INDORE', 'NAME': 'PRATHMESH', 'SALARY': 30000},\n",
      " {'AGE': '24', 'CITY': 'PIPARIYA', 'NAME': 'NAYAN', 'SALARY': 45000}]\n"
     ]
    }
   ],
   "source": [
    "# printing with pprint()\n",
    "pprint.pprint(dct)"
   ]
  },
  {
   "cell_type": "code",
   "execution_count": 50,
   "id": "c66d2a9e",
   "metadata": {},
   "outputs": [
    {
     "name": "stdout",
     "output_type": "stream",
     "text": [
      "[{'NAME': 'SACHIN', 'AGE': '26', 'CITY': 'JABALPUR', 'SALARY': 50000}, {'NAME': 'NEERAJ', 'AGE': '30', 'CITY': 'BHOPAL', 'SALARY': 40000}, {'NAME': 'PRATHMESH', 'AGE': '21', 'CITY': 'INDORE', 'SALARY': 30000}, {'NAME': 'NAYAN', 'AGE': '24', 'CITY': 'PIPARIYA', 'SALARY': 45000}]\n"
     ]
    }
   ],
   "source": [
    "#Printing with print()\n",
    "print(dct)"
   ]
  },
  {
   "cell_type": "code",
   "execution_count": null,
   "id": "59fc9811",
   "metadata": {},
   "outputs": [],
   "source": []
  }
 ],
 "metadata": {
  "kernelspec": {
   "display_name": "Python 3 (ipykernel)",
   "language": "python",
   "name": "python3"
  },
  "language_info": {
   "codemirror_mode": {
    "name": "ipython",
    "version": 3
   },
   "file_extension": ".py",
   "mimetype": "text/x-python",
   "name": "python",
   "nbconvert_exporter": "python",
   "pygments_lexer": "ipython3",
   "version": "3.11.4"
  }
 },
 "nbformat": 4,
 "nbformat_minor": 5
}
